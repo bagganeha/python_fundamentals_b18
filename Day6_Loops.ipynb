{
 "cells": [
  {
   "cell_type": "code",
   "execution_count": null,
   "metadata": {},
   "outputs": [],
   "source": [
    "**Introduction to LOOPS***"
   ]
  },
  {
   "cell_type": "code",
   "execution_count": 4,
   "metadata": {},
   "outputs": [],
   "source": [
    "my_students=['neha','vishal','payal','shweta','ekta','monu','sumeet','deepali']  #my list"
   ]
  },
  {
   "cell_type": "code",
   "execution_count": 1,
   "metadata": {},
   "outputs": [
    {
     "ename": "IndentationError",
     "evalue": "expected an indented block (<ipython-input-1-0fb111305b3a>, line 2)",
     "output_type": "error",
     "traceback": [
      "\u001b[1;36m  File \u001b[1;32m\"<ipython-input-1-0fb111305b3a>\"\u001b[1;36m, line \u001b[1;32m2\u001b[0m\n\u001b[1;33m    print(tempvar)\u001b[0m\n\u001b[1;37m        ^\u001b[0m\n\u001b[1;31mIndentationError\u001b[0m\u001b[1;31m:\u001b[0m expected an indented block\n"
     ]
    }
   ],
   "source": [
    "for tempvar in my_students:\n",
    "print(tempvar)"
   ]
  },
  {
   "cell_type": "code",
   "execution_count": 5,
   "metadata": {},
   "outputs": [
    {
     "name": "stdout",
     "output_type": "stream",
     "text": [
      "neha\n",
      "vishal\n",
      "payal\n",
      "shweta\n",
      "ekta\n",
      "monu\n",
      "sumeet\n",
      "deepali\n"
     ]
    }
   ],
   "source": [
    "for x in my_students:\n",
    "    print(x)"
   ]
  },
  {
   "cell_type": "code",
   "execution_count": 6,
   "metadata": {},
   "outputs": [
    {
     "name": "stdout",
     "output_type": "stream",
     "text": [
      "['neha', 'vishal', 'payal', 'shweta', 'ekta', 'monu', 'sumeet', 'deepali']\n",
      "['neha', 'vishal', 'payal', 'shweta', 'ekta', 'monu', 'sumeet', 'deepali']\n",
      "['neha', 'vishal', 'payal', 'shweta', 'ekta', 'monu', 'sumeet', 'deepali']\n",
      "['neha', 'vishal', 'payal', 'shweta', 'ekta', 'monu', 'sumeet', 'deepali']\n",
      "['neha', 'vishal', 'payal', 'shweta', 'ekta', 'monu', 'sumeet', 'deepali']\n",
      "['neha', 'vishal', 'payal', 'shweta', 'ekta', 'monu', 'sumeet', 'deepali']\n",
      "['neha', 'vishal', 'payal', 'shweta', 'ekta', 'monu', 'sumeet', 'deepali']\n",
      "['neha', 'vishal', 'payal', 'shweta', 'ekta', 'monu', 'sumeet', 'deepali']\n"
     ]
    }
   ],
   "source": [
    "for x in my_students:\n",
    "    print(my_students)"
   ]
  },
  {
   "cell_type": "code",
   "execution_count": 9,
   "metadata": {},
   "outputs": [
    {
     "name": "stdout",
     "output_type": "stream",
     "text": [
      "YOu guys are awesome,Neha\n",
      "YOu guys are awesome,Vishal\n",
      "YOu guys are awesome,Payal\n",
      "YOu guys are awesome,Shweta\n",
      "YOu guys are awesome,Ekta\n",
      "YOu guys are awesome,Monu\n",
      "YOu guys are awesome,Sumeet\n",
      "YOu guys are awesome,Deepali\n"
     ]
    }
   ],
   "source": [
    "for x in my_students:\n",
    "    print(f\"YOu guys are awesome,{x.title()}\")"
   ]
  },
  {
   "cell_type": "code",
   "execution_count": 13,
   "metadata": {},
   "outputs": [
    {
     "name": "stdout",
     "output_type": "stream",
     "text": [
      "YOu guys are awesome,Neha\n",
      "please send us more creative things,Neha\n",
      "\n",
      "YOu guys are awesome,Vishal\n",
      "please send us more creative things,Vishal\n",
      "\n",
      "YOu guys are awesome,Payal\n",
      "please send us more creative things,Payal\n",
      "\n",
      "YOu guys are awesome,Shweta\n",
      "please send us more creative things,Shweta\n",
      "\n",
      "YOu guys are awesome,Ekta\n",
      "please send us more creative things,Ekta\n",
      "\n",
      "YOu guys are awesome,Monu\n",
      "please send us more creative things,Monu\n",
      "\n",
      "YOu guys are awesome,Sumeet\n",
      "please send us more creative things,Sumeet\n",
      "\n",
      "YOu guys are awesome,Deepali\n",
      "please send us more creative things,Deepali\n",
      "\n"
     ]
    }
   ],
   "source": [
    "#with indentation and enhancement:\n",
    "for x in my_students:\n",
    "    print(f\"YOu guys are awesome,{x.title()}\")\n",
    "    print(f\"please send us more creative things,{x.title()}\\n\")"
   ]
  },
  {
   "cell_type": "code",
   "execution_count": null,
   "metadata": {},
   "outputs": [],
   "source": [
    "**Introduction to if statement:***"
   ]
  },
  {
   "cell_type": "code",
   "execution_count": 15,
   "metadata": {},
   "outputs": [],
   "source": [
    "cars = ['audi','maruti','toyato','benz','bmw']"
   ]
  },
  {
   "cell_type": "code",
   "execution_count": 16,
   "metadata": {},
   "outputs": [
    {
     "name": "stdout",
     "output_type": "stream",
     "text": [
      "Audi\n",
      "Maruti\n",
      "Toyato\n",
      "Benz\n",
      "BMW\n"
     ]
    }
   ],
   "source": [
    "for car in cars: #for loop syntax\n",
    "    if car =='bmw': # equality testing ---->\n",
    "        print(car.upper())\n",
    "    else:\n",
    "        print(car.title())"
   ]
  },
  {
   "cell_type": "code",
   "execution_count": 22,
   "metadata": {},
   "outputs": [
    {
     "name": "stdout",
     "output_type": "stream",
     "text": [
      "I can go out\n"
     ]
    }
   ],
   "source": [
    "rain=0\n",
    "if rain>0:\n",
    "    print(\"I am at home\")\n",
    "else:\n",
    "    print(\"I can go out\")"
   ]
  },
  {
   "cell_type": "code",
   "execution_count": null,
   "metadata": {},
   "outputs": [],
   "source": []
  }
 ],
 "metadata": {
  "kernelspec": {
   "display_name": "Python 3",
   "language": "python",
   "name": "python3"
  },
  "language_info": {
   "codemirror_mode": {
    "name": "ipython",
    "version": 3
   },
   "file_extension": ".py",
   "mimetype": "text/x-python",
   "name": "python",
   "nbconvert_exporter": "python",
   "pygments_lexer": "ipython3",
   "version": "3.7.6"
  }
 },
 "nbformat": 4,
 "nbformat_minor": 4
}
